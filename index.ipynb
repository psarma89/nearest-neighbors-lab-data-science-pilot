{
 "cells": [
  {
   "cell_type": "markdown",
   "metadata": {},
   "source": [
    "# Nearest Neighbors Lab"
   ]
  },
  {
   "cell_type": "markdown",
   "metadata": {},
   "source": [
    "### Introduction\n",
    "\n",
    "In this lab, you apply nearest neighbors technique to help a taxi company predict the length of their rides.  Imagine that we are hired to consult for LiftOff, a limo and taxi service that is just opening up.  It wants to do some initial research on NYC trips.  LiftOff has a theory that the pickup location of a taxi ride can help predict the length of the ride.  So the hypothesis is that trips that have a similar pickup location will have a similar trip length. It wants to target the locations that generally have longer rides, as it makes more money that way.\n",
    "\n",
    "LiftOff asks us to do some analysis. Lucky for us, information about NYC taxi trips is available on [it's website](https://data.cityofnewyork.us/Transportation/2014-Yellow-Taxi-Trip-Data/gn7m-em8n).  "
   ]
  },
  {
   "cell_type": "markdown",
   "metadata": {},
   "source": [
    "### A little different"
   ]
  },
  {
   "cell_type": "markdown",
   "metadata": {},
   "source": [
    "Before we get started, note that our problem here is a little bit different than what we worked with previously.  \n",
    "\n",
    "Before our job would be complete upon finding the closest trips to a given location -- that is, upon finding our nearest neighbors.  Now, we still need to find the closest trips, but then we also need to use this data to predict the length of the trip.  As you'll see, to predict a trip length from a given location, we'll find the trips that occurred nearest to the given location, then take the median of those nearest trips, to make a prediction about trip length.\n",
    "\n",
    "The second new thing that we'll see with our problem is the task of choosing the correct number of neighbors or trips.  Say we choose the 500 closest neighbors to a given point.  Well in a dataset of only 1000 trips, we would be including trips from all over the map, and our nearest neighbors formula wouldn't tell us too much about how a specific point is different.  However, if we only choose one neighbor at a given point and assume that the one neighbor's trip distance predicts the length of our trip, then we run the risk of that trip just being a special case and not the norm for that area.  So how to choose the correct number of neighbors, referred to as $k$, is something that we'll need to explore.   "
   ]
  },
  {
   "cell_type": "markdown",
   "metadata": {},
   "source": [
    "### Exploring and Gathering the Data"
   ]
  },
  {
   "cell_type": "markdown",
   "metadata": {},
   "source": [
    "If you go to [NYC Open Data](https://opendata.cityofnewyork.us/), you can find NYC taxi data after a quick search [it's website](https://data.cityofnewyork.us/Transportation/2014-Yellow-Taxi-Trip-Data/gn7m-em8n) if you click on the button, \"API\", you'll find the data that we'll be working with.  For you're reading pleasure, the data has already been moved to the \"trips.json\" file in this lab."
   ]
  },
  {
   "cell_type": "markdown",
   "metadata": {
    "collapsed": true
   },
   "source": [
    "```python\n",
    "[\n",
    "  {\n",
    "    \"dropoff_datetime\": \"2014-11-26T22:31:00.000\",\n",
    "    \"dropoff_latitude\": \"40.746769999999998\",\n",
    "    \"dropoff_longitude\": \"-73.997450000000001\",\n",
    "    \"fare_amount\": \"52\",\n",
    "    \"imp_surcharge\": \"0\",\n",
    "    \"mta_tax\": \"0.5\",\n",
    "    \"passenger_count\": \"1\",\n",
    "    \"payment_type\": \"CSH\",\n",
    "    \"pickup_datetime\": \"2014-11-26T21:59:00.000\",\n",
    "    \"pickup_latitude\": \"40.64499\",\n",
    "    \"pickup_longitude\": \"-73.781149999999997\",\n",
    "    \"rate_code\": \"2\",\n",
    "    \"tip_amount\": \"0\",\n",
    "    \"tolls_amount\": \"5.3300000000000001\",\n",
    "    \"total_amount\": \"57.829999999999998\",\n",
    "    \"trip_distance\": \"18.379999999999999\",\n",
    "    \"vendor_id\": \"VTS\"\n",
    "  },\n",
    "...\n",
    "...\n",
    "]\n",
    "```"
   ]
  },
  {
   "cell_type": "markdown",
   "metadata": {
    "collapsed": true
   },
   "source": [
    "### Document Retrieval "
   ]
  },
  {
   "cell_type": "markdown",
   "metadata": {},
   "source": [
    "Now, we like the amount of data, but we don't need all of the attributes provided.  We decide that all we need for this exploration is `pickup_latitude`, and `pickup_longitude`."
   ]
  },
  {
   "cell_type": "markdown",
   "metadata": {},
   "source": [
    "The first step is to load the data from a JSON file, which can be a little tricky in python.  We'll write a function to do it for you - using the pandas library. "
   ]
  },
  {
   "cell_type": "code",
   "execution_count": 1,
   "metadata": {},
   "outputs": [],
   "source": [
    "import pandas\n",
    "\n",
    "def parse_file(fileName):\n",
    "    trips_df = pandas.read_json(fileName)\n",
    "    return trips_df.to_dict('records')\n",
    "\n",
    "trips = parse_file('trips.json')"
   ]
  },
  {
   "cell_type": "code",
   "execution_count": 2,
   "metadata": {},
   "outputs": [
    {
     "data": {
      "text/plain": [
       "{'dropoff_datetime': '2014-11-26T22:31:00.000',\n",
       " 'dropoff_latitude': 40.74677,\n",
       " 'dropoff_longitude': -73.99745,\n",
       " 'fare_amount': 52.0,\n",
       " 'imp_surcharge': 0.0,\n",
       " 'mta_tax': 0.5,\n",
       " 'passenger_count': 1,\n",
       " 'payment_type': 'CSH',\n",
       " 'pickup_datetime': '2014-11-26T21:59:00.000',\n",
       " 'pickup_latitude': 40.64499,\n",
       " 'pickup_longitude': -73.78115,\n",
       " 'rate_code': 2,\n",
       " 'store_and_fwd_flag': nan,\n",
       " 'tip_amount': 0.0,\n",
       " 'tolls_amount': 5.33,\n",
       " 'total_amount': 57.83,\n",
       " 'trip_distance': 18.38,\n",
       " 'vendor_id': 'VTS'}"
      ]
     },
     "execution_count": 2,
     "metadata": {},
     "output_type": "execute_result"
    }
   ],
   "source": [
    "trips[0]"
   ]
  },
  {
   "cell_type": "code",
   "execution_count": 3,
   "metadata": {},
   "outputs": [
    {
     "data": {
      "text/plain": [
       "1000"
      ]
     },
     "execution_count": 3,
     "metadata": {},
     "output_type": "execute_result"
    }
   ],
   "source": [
    "len(trips)"
   ]
  },
  {
   "cell_type": "markdown",
   "metadata": {
    "collapsed": true
   },
   "source": [
    "Ok, so as you can see from above, the `trips` variable returns an array of dictionaries with each dictionary representing a trip.  Write a function called `parse_trips(trips)` that returns an array of the trips with just the following attributes: `trip_distance`, `pickup_latitude`, `pickup_longitude`.  \n",
    "\n",
    "Run the `index-tests.py` file to ensure that you wrote it correctly."
   ]
  },
  {
   "cell_type": "code",
   "execution_count": 4,
   "metadata": {},
   "outputs": [],
   "source": [
    "def parse_trips(trips):\n",
    "    array = list(map(lambda trip: {'trip_distance': trip['trip_distance'], 'pickup_latitude': trip['pickup_latitude'], 'pickup_longitude': trip['pickup_longitude']}, trips))\n",
    "    return array"
   ]
  },
  {
   "cell_type": "code",
   "execution_count": 5,
   "metadata": {},
   "outputs": [
    {
     "data": {
      "text/plain": [
       "{'pickup_latitude', 'pickup_longitude', 'trip_distance'}"
      ]
     },
     "execution_count": 5,
     "metadata": {},
     "output_type": "execute_result"
    }
   ],
   "source": [
    "parsed_trips = parse_trips(trips)\n",
    "parsed_trips[0]\n",
    "#     {'pickup_latitude': 40.64499,\n",
    "#      'pickup_longitude': -73.78115,\n",
    "#      'trip_distance': 18.38}\n",
    "\n",
    "len(parsed_trips)\n",
    "#     1000\n",
    "\n",
    "\n",
    "set([key for trip in parsed_trips for key in list(trip.keys())])\n",
    "#     {'pickup_latitude', 'pickup_longitude', 'trip_distance'}"
   ]
  },
  {
   "cell_type": "markdown",
   "metadata": {},
   "source": [
    "### Exploring the Data"
   ]
  },
  {
   "cell_type": "markdown",
   "metadata": {},
   "source": [
    "Now that we have paired down our data, let's answer some initial questions.  Here is where our data will go. "
   ]
  },
  {
   "cell_type": "code",
   "execution_count": 6,
   "metadata": {},
   "outputs": [
    {
     "name": "stdout",
     "output_type": "stream",
     "text": [
      "Collecting gmplot\n",
      "  Downloading https://files.pythonhosted.org/packages/e2/b1/e1429c31a40b3ef5840c16f78b506d03be9f27e517d3870a6fd0b356bd46/gmplot-1.2.0.tar.gz (115kB)\n",
      "\u001b[K    100% |████████████████████████████████| 122kB 5.0MB/s ta 0:00:01\n",
      "\u001b[?25hRequirement already satisfied: requests in /opt/conda/lib/python3.6/site-packages (from gmplot)\n",
      "Requirement already satisfied: chardet<3.1.0,>=3.0.2 in /opt/conda/lib/python3.6/site-packages (from requests->gmplot)\n",
      "Requirement already satisfied: idna<2.7,>=2.5 in /opt/conda/lib/python3.6/site-packages (from requests->gmplot)\n",
      "Requirement already satisfied: urllib3<1.23,>=1.21.1 in /opt/conda/lib/python3.6/site-packages (from requests->gmplot)\n",
      "Requirement already satisfied: certifi>=2017.4.17 in /opt/conda/lib/python3.6/site-packages (from requests->gmplot)\n",
      "Building wheels for collected packages: gmplot\n",
      "  Running setup.py bdist_wheel for gmplot ... \u001b[?25ldone\n",
      "\u001b[?25h  Stored in directory: /home/psarma89/.cache/pip/wheels/81/6a/76/4dd6a7cc310ba765894159ee84871e8cd55221d82ef14b81a1\n",
      "Successfully built gmplot\n",
      "Installing collected packages: gmplot\n",
      "Successfully installed gmplot-1.2.0\n",
      "\u001b[33mYou are using pip version 9.0.1, however version 10.0.1 is available.\n",
      "You should consider upgrading via the 'pip install --upgrade pip' command.\u001b[0m\n"
     ]
    }
   ],
   "source": [
    "!pip install gmplot\n",
    "import gmplot\n",
    "gmap = gmplot.GoogleMapPlotter(40.758896, -73.985130, 12)\n",
    "gmap.draw(\"mymap.html\")"
   ]
  },
  {
   "cell_type": "markdown",
   "metadata": {},
   "source": [
    "![](./Manhattan.png)"
   ]
  },
  {
   "cell_type": "markdown",
   "metadata": {},
   "source": [
    "Now, plotting the data feeds into the following function.\n",
    "```python\n",
    "gmap.plot(latitudes, longitudes, 'cornflowerblue', edge_width=10)\n",
    "```\n",
    "So we'll need an array of latitudes, each element representing the latitude of a trip, and an array of longitudes, each representing the longitudes associated with a trip.  Write a function called `trip_latitudes` that given a list of trips returns a list of latitudes, and `trip_longitudes` that given a list of trips, returns a list of `longitudes` accordingly.  Run the file `nearest-neighbor-lab-tests.py` to get feedback.  "
   ]
  },
  {
   "cell_type": "code",
   "execution_count": 7,
   "metadata": {},
   "outputs": [],
   "source": [
    "def trip_latitudes(trips):\n",
    "    return list(map(lambda trip: trip['pickup_latitude'],trips))"
   ]
  },
  {
   "cell_type": "code",
   "execution_count": 8,
   "metadata": {},
   "outputs": [],
   "source": [
    "def trip_longitudes(trips):\n",
    "    return list(map(lambda trip: trip['pickup_longitude'],trips))"
   ]
  },
  {
   "cell_type": "code",
   "execution_count": 16,
   "metadata": {},
   "outputs": [
    {
     "name": "stdout",
     "output_type": "stream",
     "text": [
      "40.64499\n",
      "-73.78115\n"
     ]
    }
   ],
   "source": [
    "latitudes = trip_latitudes(parsed_trips)\n",
    "print(latitudes[0])\n",
    "longitudes = trip_longitudes(parsed_trips)\n",
    "print(longitudes[0])"
   ]
  },
  {
   "cell_type": "code",
   "execution_count": 15,
   "metadata": {},
   "outputs": [
    {
     "data": {
      "text/plain": [
       "1000"
      ]
     },
     "execution_count": 15,
     "metadata": {},
     "output_type": "execute_result"
    }
   ],
   "source": [
    "len(latitudes) \n",
    "# 1000\n",
    "len(longitudes) "
   ]
  },
  {
   "cell_type": "code",
   "execution_count": 14,
   "metadata": {},
   "outputs": [],
   "source": [
    "gmap.plot(latitudes or [], longitudes or [], 'cornflowerblue', edge_width=10)\n",
    "gmap.draw(\"myplot.html\")"
   ]
  },
  {
   "cell_type": "markdown",
   "metadata": {},
   "source": [
    "Plotting the trips give you the following."
   ]
  },
  {
   "cell_type": "markdown",
   "metadata": {
    "collapsed": true
   },
   "source": [
    "![](./map-plotting.png)"
   ]
  },
  {
   "cell_type": "markdown",
   "metadata": {},
   "source": [
    "### Using Nearest Neighbors"
   ]
  },
  {
   "cell_type": "markdown",
   "metadata": {},
   "source": [
    "Ok, let's write a function that given a latitude and longitude will predict the fare distance for us.  We'll do this by first finding the nearest trips given a latitude and longitude. "
   ]
  },
  {
   "cell_type": "markdown",
   "metadata": {},
   "source": [
    " First write a method `distance_location` that calculates the distance between two individuals."
   ]
  },
  {
   "cell_type": "code",
   "execution_count": 17,
   "metadata": {},
   "outputs": [],
   "source": [
    "import math\n",
    "\n",
    "def distance_location(selected_individual, neighbor):\n",
    "    sum_squares = (selected_individual['pickup_latitude'] - neighbor['pickup_latitude'])**2 + (selected_individual['pickup_longitude'] - neighbor['pickup_longitude'])**2    \n",
    "    return math.sqrt(sum_squares)"
   ]
  },
  {
   "cell_type": "code",
   "execution_count": 19,
   "metadata": {},
   "outputs": [
    {
     "data": {
      "text/plain": [
       "0.23505256047318146"
      ]
     },
     "execution_count": 19,
     "metadata": {},
     "output_type": "execute_result"
    }
   ],
   "source": [
    "first_trip = parsed_trips[0]\n",
    "second_trip = parsed_trips[1]\n",
    "\n",
    "distance_location(first_trip, second_trip) \n",
    "    # 0.23505256047318146"
   ]
  },
  {
   "cell_type": "markdown",
   "metadata": {},
   "source": [
    "Write the nearest neighbors formula.  If no number is provided, it should return the top 3 neighbors."
   ]
  },
  {
   "cell_type": "code",
   "execution_count": 21,
   "metadata": {},
   "outputs": [],
   "source": [
    "def someshit(selected_individual, neighbor):\n",
    "    neighbor['distance'] = distance_location(selected_individual, neighbor)\n",
    "    return neighbor\n",
    "\n",
    "def nearest_neighbors(selected_individual, neighbors, number = 3):\n",
    "    remove_ind = filter(lambda neighbor: neighbor != selected_individual, neighbors)\n",
    "    array = list(map(lambda neighbor: someshit(selected_individual, neighbor),remove_ind))\n",
    "    sort_array = sorted(array, key = lambda neighbor: neighbor['distance'])\n",
    "    return sort_array[:number]"
   ]
  },
  {
   "cell_type": "code",
   "execution_count": 22,
   "metadata": {},
   "outputs": [
    {
     "data": {
      "text/plain": [
       "[{'trip_distance': 7.78,\n",
       "  'pickup_latitude': 40.64483,\n",
       "  'pickup_longitude': -73.781578,\n",
       "  'distance': 0.0004569288784918792},\n",
       " {'trip_distance': 12.7,\n",
       "  'pickup_latitude': 40.644657,\n",
       "  'pickup_longitude': -73.782229,\n",
       "  'distance': 0.0011292165425673159},\n",
       " {'trip_distance': 17.3,\n",
       "  'pickup_latitude': 40.648509,\n",
       "  'pickup_longitude': -73.783508,\n",
       "  'distance': 0.0042359798158141185}]"
      ]
     },
     "execution_count": 22,
     "metadata": {},
     "output_type": "execute_result"
    }
   ],
   "source": [
    "selected_trip = {'pickup_latitude': 40.64499,\n",
    "'pickup_longitude': -73.78115,\n",
    "'trip_distance': 18.38}\n",
    "\n",
    "\n",
    "nearest_neighbors(selected_trip, parsed_trips or [], number = 3)\n",
    "\n",
    "# [{'distance': 0.0004569288784918792,\n",
    "#   'pickup_latitude': 40.64483,\n",
    "#   'pickup_longitude': -73.781578,\n",
    "#   'trip_distance': 7.78},\n",
    "#  {'distance': 0.0011292165425673159,\n",
    "#   'pickup_latitude': 40.644657,\n",
    "#   'pickup_longitude': -73.782229,\n",
    "#   'trip_distance': 12.7},\n",
    "#  {'distance': 0.0042359798158141185,\n",
    "#   'pickup_latitude': 40.648509,\n",
    "#   'pickup_longitude': -73.783508,\n",
    "#   'trip_distance': 17.3}]"
   ]
  },
  {
   "cell_type": "markdown",
   "metadata": {},
   "source": [
    "### Choosing the correct number of neighbors"
   ]
  },
  {
   "cell_type": "markdown",
   "metadata": {},
   "source": [
    "Now in working with a nearest neighbors formula, one tricky question is how many neighbors we should use.  Remember that our guess is that trips that have similar pickup locations will have similar lengths of trips.  Then we will just take the median of the trip lengths of this group together to make a prediction.  \n",
    "\n",
    "If we choose too many neighbors, then we'll be averaging together distances from all over town, and we won't really be differentiating between locations.  But if we  look at the trip distances of the three neighbors above, this may be small.  Take a look at the `trip_distances` of the 3 neighbors above.  It's hard to tell if the trip distance of 7 is more typical than the distance of 17.  In other words, our sample size is small.\n",
    "\n",
    "The choice of the correct number of neighbors is called choosing the correct $k$, as that the variable often assigned to the number of neighbors.  We'll experiment with the our $k$ size throughout the rest of this lab."
   ]
  },
  {
   "cell_type": "markdown",
   "metadata": {},
   "source": [
    "Let's increase the number of our neighbors to see what happens. "
   ]
  },
  {
   "cell_type": "code",
   "execution_count": 23,
   "metadata": {},
   "outputs": [
    {
     "data": {
      "text/plain": [
       "[{'trip_distance': 7.78,\n",
       "  'pickup_latitude': 40.64483,\n",
       "  'pickup_longitude': -73.781578,\n",
       "  'distance': 0.0004569288784918792},\n",
       " {'trip_distance': 12.7,\n",
       "  'pickup_latitude': 40.644657,\n",
       "  'pickup_longitude': -73.782229,\n",
       "  'distance': 0.0011292165425673159},\n",
       " {'trip_distance': 17.3,\n",
       "  'pickup_latitude': 40.648509,\n",
       "  'pickup_longitude': -73.783508,\n",
       "  'distance': 0.0042359798158141185},\n",
       " {'trip_distance': 17.5,\n",
       "  'pickup_latitude': 40.645316,\n",
       "  'pickup_longitude': -73.776808,\n",
       "  'distance': 0.004354220940644754},\n",
       " {'trip_distance': 20.5,\n",
       "  'pickup_latitude': 40.645718,\n",
       "  'pickup_longitude': -73.776765,\n",
       "  'distance': 0.004445020697364217},\n",
       " {'trip_distance': 21.44,\n",
       "  'pickup_latitude': 40.64534,\n",
       "  'pickup_longitude': -73.77668,\n",
       "  'distance': 0.004483681523031949},\n",
       " {'trip_distance': 19.05,\n",
       "  'pickup_latitude': 40.645322,\n",
       "  'pickup_longitude': -73.776652,\n",
       "  'distance': 0.0045102359140052955}]"
      ]
     },
     "execution_count": 23,
     "metadata": {},
     "output_type": "execute_result"
    }
   ],
   "source": [
    "seven_closest = nearest_neighbors(selected_trip, parsed_trips or [], number = 7)\n",
    "seven_closest"
   ]
  },
  {
   "cell_type": "markdown",
   "metadata": {},
   "source": [
    "Notice that most of the data is a distance of .0045 away, so going to the top 7 nearest neighbors didn't seem to give us neighbors too far from each other, which is a good sign.  Still, it's hard to know what distance in latitude and longitude really look like, so let's try mapping the data.  "
   ]
  },
  {
   "cell_type": "code",
   "execution_count": 25,
   "metadata": {},
   "outputs": [],
   "source": [
    "seven_lats = trip_latitudes(seven_closest)\n",
    "seven_longs = trip_longitudes(seven_closest)"
   ]
  },
  {
   "cell_type": "code",
   "execution_count": 24,
   "metadata": {},
   "outputs": [
    {
     "ename": "NameError",
     "evalue": "name 'seven_lats' is not defined",
     "output_type": "error",
     "traceback": [
      "\u001b[0;31m\u001b[0m",
      "\u001b[0;31mNameError\u001b[0mTraceback (most recent call last)",
      "\u001b[0;32m<ipython-input-24-c566217ef94b>\u001b[0m in \u001b[0;36m<module>\u001b[0;34m()\u001b[0m\n\u001b[1;32m      1\u001b[0m \u001b[0;32mimport\u001b[0m \u001b[0mgmplot\u001b[0m\u001b[0;34m\u001b[0m\u001b[0m\n\u001b[1;32m      2\u001b[0m \u001b[0mgmap\u001b[0m \u001b[0;34m=\u001b[0m \u001b[0mgmplot\u001b[0m\u001b[0;34m.\u001b[0m\u001b[0mGoogleMapPlotter\u001b[0m\u001b[0;34m(\u001b[0m\u001b[0mfirst_trip\u001b[0m\u001b[0;34m[\u001b[0m\u001b[0;34m'pickup_latitude'\u001b[0m\u001b[0;34m]\u001b[0m\u001b[0;34m,\u001b[0m \u001b[0mfirst_trip\u001b[0m\u001b[0;34m[\u001b[0m\u001b[0;34m'pickup_longitude'\u001b[0m\u001b[0;34m]\u001b[0m\u001b[0;34m,\u001b[0m \u001b[0;36m15\u001b[0m\u001b[0;34m)\u001b[0m\u001b[0;34m\u001b[0m\u001b[0m\n\u001b[0;32m----> 3\u001b[0;31m \u001b[0mgmap\u001b[0m\u001b[0;34m.\u001b[0m\u001b[0mscatter\u001b[0m\u001b[0;34m(\u001b[0m\u001b[0mseven_lats\u001b[0m\u001b[0;34m,\u001b[0m \u001b[0mseven_longs\u001b[0m\u001b[0;34m,\u001b[0m \u001b[0;34m'cornflowerblue'\u001b[0m\u001b[0;34m,\u001b[0m \u001b[0medge_width\u001b[0m\u001b[0;34m=\u001b[0m\u001b[0;36m10\u001b[0m\u001b[0;34m)\u001b[0m\u001b[0;34m\u001b[0m\u001b[0m\n\u001b[0m\u001b[1;32m      4\u001b[0m \u001b[0mgmap\u001b[0m\u001b[0;34m.\u001b[0m\u001b[0mdraw\u001b[0m\u001b[0;34m(\u001b[0m\u001b[0;34m\"nearestneighbors.html\"\u001b[0m\u001b[0;34m)\u001b[0m\u001b[0;34m\u001b[0m\u001b[0m\n",
      "\u001b[0;31mNameError\u001b[0m: name 'seven_lats' is not defined"
     ]
    }
   ],
   "source": [
    "import gmplot\n",
    "gmap = gmplot.GoogleMapPlotter(first_trip['pickup_latitude'], first_trip['pickup_longitude'], 15)\n",
    "gmap.scatter(seven_lats, seven_longs, 'cornflowerblue', edge_width=10)\n",
    "gmap.draw(\"nearestneighbors.html\")"
   ]
  },
  {
   "cell_type": "markdown",
   "metadata": {},
   "source": [
    "![](./airportdata.png)"
   ]
  },
  {
   "cell_type": "markdown",
   "metadata": {},
   "source": [
    "Well, it looks like we can't really make an assessment of a good $k$ size with this data.  Our location is the airport, which is probably not a very typical place to see if our $k$ size is good for predicting trip lengths.\n",
    "\n",
    "Let's choose another spot that we expect to be less atypical.  Fifty-first street and 7th Avenue is at $40.761710, -73.982760$.  Now let's again try to see if seven locations is a good spread, but this time starting from midtown."
   ]
  },
  {
   "cell_type": "code",
   "execution_count": 27,
   "metadata": {},
   "outputs": [
    {
     "data": {
      "text/plain": [
       "[0.00037310588309379025,\n",
       " 0.00080072217404248,\n",
       " 0.0011555682584735844,\n",
       " 0.0012508768924205918,\n",
       " 0.0018118976240381972,\n",
       " 0.002067074502774709,\n",
       " 0.0020684557041472677]"
      ]
     },
     "execution_count": 27,
     "metadata": {},
     "output_type": "execute_result"
    }
   ],
   "source": [
    "midtown_loc = {'pickup_latitude': 40.761710, 'pickup_longitude': -73.982760}\n",
    "midtown_neighbors = nearest_neighbors(midtown_loc, parsed_trips, number = 7)\n",
    "list(map(lambda trip: trip['distance'], midtown_neighbors))"
   ]
  },
  {
   "cell_type": "markdown",
   "metadata": {},
   "source": [
    "The distances between neighbors double in size as our $k$ goes from four to five.  How far is this distance really?"
   ]
  },
  {
   "cell_type": "code",
   "execution_count": 28,
   "metadata": {},
   "outputs": [],
   "source": [
    "gmap = gmplot.GoogleMapPlotter(midtown_loc['pickup_latitude'], midtown_loc['pickup_longitude'], 15)\n",
    "closest_lats = trip_latitudes(midtown_neighbors)\n",
    "closest_longs = trip_longitudes(midtown_neighbors)\n",
    "\n",
    "gmap.scatter(closest_lats, closest_longs, 'cornflowerblue', edge_width=10)\n",
    "gmap.draw(\"nearestmidtown.html\")"
   ]
  },
  {
   "cell_type": "markdown",
   "metadata": {},
   "source": [
    "![](./midtown.png)"
   ]
  },
  {
   "cell_type": "markdown",
   "metadata": {},
   "source": [
    "So essentially this is one or two blocks away from our location of 51st and 7th.  Not too bad.  Looking at the length of the trip for our seven it seems like our neighbor size, $k$, is large enough so we can start to see what would be an expected trip distance."
   ]
  },
  {
   "cell_type": "code",
   "execution_count": 29,
   "metadata": {},
   "outputs": [
    {
     "data": {
      "text/plain": [
       "[{'trip_distance': 0.58,\n",
       "  'pickup_latitude': 40.761372,\n",
       "  'pickup_longitude': -73.982602,\n",
       "  'distance': 0.00037310588309379025},\n",
       " {'trip_distance': 0.8,\n",
       "  'pickup_latitude': 40.762444,\n",
       "  'pickup_longitude': -73.98244,\n",
       "  'distance': 0.00080072217404248},\n",
       " {'trip_distance': 1.4,\n",
       "  'pickup_latitude': 40.762767,\n",
       "  'pickup_longitude': -73.982293,\n",
       "  'distance': 0.0011555682584735844},\n",
       " {'trip_distance': 8.3,\n",
       "  'pickup_latitude': 40.762868,\n",
       "  'pickup_longitude': -73.983233,\n",
       "  'distance': 0.0012508768924205918},\n",
       " {'trip_distance': 1.26,\n",
       "  'pickup_latitude': 40.760057,\n",
       "  'pickup_longitude': -73.983502,\n",
       "  'distance': 0.0018118976240381972},\n",
       " {'trip_distance': 0.0,\n",
       "  'pickup_latitude': 40.760644,\n",
       "  'pickup_longitude': -73.984531,\n",
       "  'distance': 0.002067074502774709},\n",
       " {'trip_distance': 1.72,\n",
       "  'pickup_latitude': 40.762107,\n",
       "  'pickup_longitude': -73.98479,\n",
       "  'distance': 0.0020684557041472677}]"
      ]
     },
     "execution_count": 29,
     "metadata": {},
     "output_type": "execute_result"
    }
   ],
   "source": [
    "midtown_neighbors"
   ]
  },
  {
   "cell_type": "markdown",
   "metadata": {},
   "source": [
    "### Calculating an expected trip distance"
   ]
  },
  {
   "cell_type": "markdown",
   "metadata": {},
   "source": [
    "Another way of thinking about the number of neighbors we should choose, is to think the deviation from the median distance.  We want to make sure our number is not so large so that when we choose a location, it just looks like the expected distance across all taxi trips in Manhattan. \n",
    "\n",
    "Let's write a function called `median_of` that takes a list of trips, and returns the median `trip_distance`."
   ]
  },
  {
   "cell_type": "code",
   "execution_count": 30,
   "metadata": {},
   "outputs": [],
   "source": [
    "import statistics\n",
    "def median_of(neighbors):\n",
    "    return round(statistics.median(list(map(lambda neighbor: neighbor['trip_distance'], neighbors))),2)"
   ]
  },
  {
   "cell_type": "code",
   "execution_count": 31,
   "metadata": {},
   "outputs": [
    {
     "data": {
      "text/plain": [
       "1.66"
      ]
     },
     "execution_count": 31,
     "metadata": {},
     "output_type": "execute_result"
    }
   ],
   "source": [
    "median_of(parsed_trips or [])"
   ]
  },
  {
   "cell_type": "markdown",
   "metadata": {},
   "source": [
    "So when we compare this with our `midtown_neighbors`, we can see that the number is different.  So our number of neighbors is not so large so that we look like the median."
   ]
  },
  {
   "cell_type": "code",
   "execution_count": 32,
   "metadata": {},
   "outputs": [
    {
     "data": {
      "text/plain": [
       "1.26"
      ]
     },
     "execution_count": 32,
     "metadata": {},
     "output_type": "execute_result"
    }
   ],
   "source": [
    "median_of(midtown_neighbors)"
   ]
  },
  {
   "cell_type": "markdown",
   "metadata": {},
   "source": [
    "Still, if we begin to change the number of neighbors from seven to ten, our median really starts to change."
   ]
  },
  {
   "cell_type": "code",
   "execution_count": 33,
   "metadata": {},
   "outputs": [
    {
     "data": {
      "text/plain": [
       "1.56"
      ]
     },
     "execution_count": 33,
     "metadata": {},
     "output_type": "execute_result"
    }
   ],
   "source": [
    "median_of(nearest_neighbors(midtown_loc, parsed_trips, number = 10))"
   ]
  },
  {
   "cell_type": "markdown",
   "metadata": {},
   "source": [
    "Notice however, that between 15 to 20, to 25, our formula begins to give us a similar result.  "
   ]
  },
  {
   "cell_type": "code",
   "execution_count": 34,
   "metadata": {},
   "outputs": [
    {
     "data": {
      "text/plain": [
       "1.93"
      ]
     },
     "execution_count": 34,
     "metadata": {},
     "output_type": "execute_result"
    }
   ],
   "source": [
    "median_of(nearest_neighbors(midtown_loc, parsed_trips, number = 25))"
   ]
  },
  {
   "cell_type": "markdown",
   "metadata": {},
   "source": [
    "So it appears that around 20 could be a sweet spot. Let's try another location to see how we do."
   ]
  },
  {
   "cell_type": "code",
   "execution_count": 35,
   "metadata": {},
   "outputs": [],
   "source": [
    "uws_loc = {'pickup_latitude': 40.786430, 'pickup_longitude': -73.975979}"
   ]
  },
  {
   "cell_type": "code",
   "execution_count": 36,
   "metadata": {},
   "outputs": [
    {
     "data": {
      "text/plain": [
       "1.66"
      ]
     },
     "execution_count": 36,
     "metadata": {},
     "output_type": "execute_result"
    }
   ],
   "source": [
    "median_of(nearest_neighbors(uws_loc, parsed_trips, number = 20))"
   ]
  },
  {
   "cell_type": "code",
   "execution_count": 37,
   "metadata": {},
   "outputs": [],
   "source": [
    "downtown_loc = {'pickup_latitude': 40.713186, 'pickup_longitude': -74.007243}"
   ]
  },
  {
   "cell_type": "code",
   "execution_count": 38,
   "metadata": {},
   "outputs": [
    {
     "data": {
      "text/plain": [
       "2.22"
      ]
     },
     "execution_count": 38,
     "metadata": {},
     "output_type": "execute_result"
    }
   ],
   "source": [
    "median_of(nearest_neighbors(downtown_loc, parsed_trips, number = 20))"
   ]
  },
  {
   "cell_type": "markdown",
   "metadata": {},
   "source": [
    "### Summary"
   ]
  },
  {
   "cell_type": "markdown",
   "metadata": {},
   "source": [
    "Alright, at this point we should be pretty happy as we can make a recommendation to LiftOff.  We can tell LiftOff the neighborhoods in Manhattan that will have the largest expected distance."
   ]
  }
 ],
 "metadata": {
  "kernelspec": {
   "display_name": "Python 3",
   "language": "python",
   "name": "python3"
  },
  "language_info": {
   "codemirror_mode": {
    "name": "ipython",
    "version": 3
   },
   "file_extension": ".py",
   "mimetype": "text/x-python",
   "name": "python",
   "nbconvert_exporter": "python",
   "pygments_lexer": "ipython3",
   "version": "3.6.4"
  }
 },
 "nbformat": 4,
 "nbformat_minor": 2
}
